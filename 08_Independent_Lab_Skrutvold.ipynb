{
 "cells": [
  {
   "cell_type": "markdown",
   "id": "aea7993c-4104-4d68-ae96-b544bfea064f",
   "metadata": {},
   "source": [
    "## Week 8 Independent Lab: Data Manipulation\n",
    "\n",
    "Author: Aerionna Skrutvold  \n",
    "Course: BGEN632 Grad. Intro to Python  \n",
    "\n",
    "This notebook contains code for the  practice your new skills in data manipulation with the *piping* expression for `pandas`. The program primarily makes use of pandas DataFrames and the  `gh_turnover_four_projects.csv` file contained within the data folder. "
   ]
  },
  {
   "cell_type": "markdown",
   "id": "7ce185de-f8de-4a11-8b90-6613885d0c2b",
   "metadata": {},
   "source": [
    "## Import Modules "
   ]
  },
  {
   "cell_type": "code",
   "execution_count": 1,
   "id": "742c2de2-7fe8-4650-9d4a-c669d08bab2a",
   "metadata": {},
   "outputs": [],
   "source": [
    "import os\n",
    "import pandas as pd\n",
    "import numpy as np\n",
    "from sklearn.model_selection import KFold"
   ]
  },
  {
   "cell_type": "markdown",
   "id": "aa5e16d8-fe6c-47d0-a338-0c28eca9c3a7",
   "metadata": {},
   "source": [
    "## Set Working Directory"
   ]
  },
  {
   "cell_type": "code",
   "execution_count": 2,
   "id": "15b651f1-3786-48bb-aa07-89e516323ede",
   "metadata": {},
   "outputs": [],
   "source": [
    "os.chdir(\"C:/Users/gcassist/Desktop/MSBA/Spring 25/Python/week8labs/data\")"
   ]
  },
  {
   "cell_type": "markdown",
   "id": "b6eb350d-d3da-4d42-a5e9-8a0673eb770f",
   "metadata": {},
   "source": [
    "## Access Data"
   ]
  },
  {
   "cell_type": "code",
   "execution_count": 3,
   "id": "d3f5cabc-c8d3-457b-9edc-5cc544160100",
   "metadata": {},
   "outputs": [],
   "source": [
    "gh_turnover = pd.read_csv(\"gh_turnover_four_projects.csv\") #open the file "
   ]
  },
  {
   "cell_type": "code",
   "execution_count": 4,
   "id": "9cb76bcd-485b-4f35-8ff7-4a530b15a264",
   "metadata": {},
   "outputs": [
    {
     "name": "stdout",
     "output_type": "stream",
     "text": [
      "<class 'pandas.core.frame.DataFrame'>\n",
      "RangeIndex: 473 entries, 0 to 472\n",
      "Data columns (total 16 columns):\n",
      " #   Column         Non-Null Count  Dtype  \n",
      "---  ------         --------------  -----  \n",
      " 0   project_id     473 non-null    int64  \n",
      " 1   domain         473 non-null    object \n",
      " 2   language       473 non-null    object \n",
      " 3   windows        473 non-null    int64  \n",
      " 4   window_idx     473 non-null    int64  \n",
      " 5   num_team       473 non-null    int64  \n",
      " 6   num_commits    473 non-null    int64  \n",
      " 7   blau_gender    473 non-null    float64\n",
      " 8   Gini_gh_ten    473 non-null    float64\n",
      " 9   user_id        473 non-null    int64  \n",
      " 10  Core1          473 non-null    int64  \n",
      " 11  commits        473 non-null    int64  \n",
      " 12  propCommits    473 non-null    float64\n",
      " 13  gender         449 non-null    object \n",
      " 14  github_tenure  473 non-null    int64  \n",
      " 15  leavesNextQ    473 non-null    int64  \n",
      "dtypes: float64(3), int64(10), object(3)\n",
      "memory usage: 59.3+ KB\n"
     ]
    }
   ],
   "source": [
    "gh_turnover.info()  # quick inspect"
   ]
  },
  {
   "cell_type": "markdown",
   "id": "6a91e376-0171-45e2-a026-db1aa13a461a",
   "metadata": {},
   "source": [
    "## Rename Columns\n",
    "* `domain` change to `project_domain`\n",
    "* `language` change to `project_language`\n",
    "* `windows` change to `project_age`\n",
    "* `window_idx` change to `quarter`\n",
    "* `num_team` change to `team_size`\n",
    "* `num_commits` change to `project_commits`\n",
    "* `blau_gender` change to `gender_blau`\n",
    "* `Gini_gh_ten` change to `gh_tenure_gini`\n",
    "* `Core1` change to `core_dev`\n",
    "* `commits` change to `user_commits`\n",
    "* `propCommits` change to `commit_proportion`\n",
    "* `github_tenure` change to `gh_tenure`\n",
    "* `leavesNextQ` change to `leaves_next_q`\n",
    "* Leave all other column names as is"
   ]
  },
  {
   "cell_type": "code",
   "execution_count": 5,
   "id": "37577291-0774-4df8-bf13-fae99f6c1066",
   "metadata": {},
   "outputs": [],
   "source": [
    "(gh_turnover\n",
    " .rename({'domain':'project_domain',\n",
    "          'language':'project_language',\n",
    "          'windows' : 'project_age',\n",
    "          'window_idx' : 'quarter',\n",
    "          'num_team' : 'team_size',\n",
    "          'num_commits' : 'project_commits',\n",
    "          'blau_gender' : 'gender_blau',\n",
    "          'Gini_gh_ten' : 'gh_tenure_gini',\n",
    "          'Core1' : 'core_dev',\n",
    "          'commits' : 'user_commits',\n",
    "          'propCommits' : 'commit_proportion',\n",
    "          'github_tenure' : 'gh_tenure',\n",
    "          'leavesNextQ' : 'leaves_next_q'},\n",
    "          axis = 1,\n",
    "            inplace = True)\n",
    ")"
   ]
  },
  {
   "cell_type": "code",
   "execution_count": 6,
   "id": "c36750a4-eeef-41ff-a8f4-be2db2b6b7a3",
   "metadata": {},
   "outputs": [
    {
     "data": {
      "text/plain": [
       "Index(['project_id', 'project_domain', 'project_language', 'project_age',\n",
       "       'quarter', 'team_size', 'project_commits', 'gender_blau',\n",
       "       'gh_tenure_gini', 'user_id', 'core_dev', 'user_commits',\n",
       "       'commit_proportion', 'gender', 'gh_tenure', 'leaves_next_q'],\n",
       "      dtype='object')"
      ]
     },
     "execution_count": 6,
     "metadata": {},
     "output_type": "execute_result"
    }
   ],
   "source": [
    "gh_turnover.columns"
   ]
  },
  {
   "cell_type": "code",
   "execution_count": 7,
   "id": "38fc024c-2ee7-4518-8bfd-a55db9bad606",
   "metadata": {},
   "outputs": [
    {
     "data": {
      "text/html": [
       "<div>\n",
       "<style scoped>\n",
       "    .dataframe tbody tr th:only-of-type {\n",
       "        vertical-align: middle;\n",
       "    }\n",
       "\n",
       "    .dataframe tbody tr th {\n",
       "        vertical-align: top;\n",
       "    }\n",
       "\n",
       "    .dataframe thead th {\n",
       "        text-align: right;\n",
       "    }\n",
       "</style>\n",
       "<table border=\"1\" class=\"dataframe\">\n",
       "  <thead>\n",
       "    <tr style=\"text-align: right;\">\n",
       "      <th></th>\n",
       "      <th>user_commits</th>\n",
       "    </tr>\n",
       "  </thead>\n",
       "  <tbody>\n",
       "    <tr>\n",
       "      <th>mean</th>\n",
       "      <td>339.365751</td>\n",
       "    </tr>\n",
       "  </tbody>\n",
       "</table>\n",
       "</div>"
      ],
      "text/plain": [
       "      user_commits\n",
       "mean    339.365751"
      ]
     },
     "execution_count": 7,
     "metadata": {},
     "output_type": "execute_result"
    }
   ],
   "source": [
    "(gh_turnover\n",
    " .agg({\n",
    "     'user_commits':['mean']})\n",
    ") # Calculate the mean of `user_commits`. "
   ]
  },
  {
   "cell_type": "code",
   "execution_count": 8,
   "id": "68e3e00b-1506-4a5a-af97-3bcb970c1b60",
   "metadata": {},
   "outputs": [
    {
     "data": {
      "text/html": [
       "<div>\n",
       "<style scoped>\n",
       "    .dataframe tbody tr th:only-of-type {\n",
       "        vertical-align: middle;\n",
       "    }\n",
       "\n",
       "    .dataframe tbody tr th {\n",
       "        vertical-align: top;\n",
       "    }\n",
       "\n",
       "    .dataframe thead th {\n",
       "        text-align: right;\n",
       "    }\n",
       "</style>\n",
       "<table border=\"1\" class=\"dataframe\">\n",
       "  <thead>\n",
       "    <tr style=\"text-align: right;\">\n",
       "      <th></th>\n",
       "      <th>user_commits</th>\n",
       "    </tr>\n",
       "  </thead>\n",
       "  <tbody>\n",
       "    <tr>\n",
       "      <th>median</th>\n",
       "      <td>18.0</td>\n",
       "    </tr>\n",
       "  </tbody>\n",
       "</table>\n",
       "</div>"
      ],
      "text/plain": [
       "        user_commits\n",
       "median          18.0"
      ]
     },
     "execution_count": 8,
     "metadata": {},
     "output_type": "execute_result"
    }
   ],
   "source": [
    "(gh_turnover\n",
    " .agg({\n",
    "     'user_commits':['median']})\n",
    ") # Calculate the median of `user_commits`."
   ]
  },
  {
   "cell_type": "code",
   "execution_count": 9,
   "id": "1708ce22-dd65-49fd-8e45-ba36d7ae6b80",
   "metadata": {},
   "outputs": [],
   "source": [
    "turnover_new = (gh_turnover\n",
    ".filter(regex = '(^p|g)')\n",
    "               ) # Select all columns that start with a *p* (i.e., `(^p)`) **or** contain an *g* (i.e., `(g)`). Save it as a new DataFrame named `turnover_new`."
   ]
  },
  {
   "cell_type": "code",
   "execution_count": 10,
   "id": "cb364a32-44d1-4567-9e47-9485e2f65ee4",
   "metadata": {},
   "outputs": [
    {
     "data": {
      "text/plain": [
       "Index(['project_id', 'project_domain', 'project_language', 'project_age',\n",
       "       'project_commits', 'gender_blau', 'gh_tenure_gini', 'gender',\n",
       "       'gh_tenure'],\n",
       "      dtype='object')"
      ]
     },
     "execution_count": 10,
     "metadata": {},
     "output_type": "execute_result"
    }
   ],
   "source": [
    "turnover_new.columns # Output the columns in your notebook."
   ]
  },
  {
   "cell_type": "code",
   "execution_count": 11,
   "id": "79f060cc-f8c6-488f-b1ca-f8ba55561278",
   "metadata": {},
   "outputs": [
    {
     "data": {
      "text/html": [
       "<div>\n",
       "<style scoped>\n",
       "    .dataframe tbody tr th:only-of-type {\n",
       "        vertical-align: middle;\n",
       "    }\n",
       "\n",
       "    .dataframe tbody tr th {\n",
       "        vertical-align: top;\n",
       "    }\n",
       "\n",
       "    .dataframe thead th {\n",
       "        text-align: right;\n",
       "    }\n",
       "</style>\n",
       "<table border=\"1\" class=\"dataframe\">\n",
       "  <thead>\n",
       "    <tr style=\"text-align: right;\">\n",
       "      <th></th>\n",
       "      <th>project_id</th>\n",
       "      <th>project_domain</th>\n",
       "      <th>project_language</th>\n",
       "      <th>project_age</th>\n",
       "      <th>project_commits</th>\n",
       "      <th>gender_blau</th>\n",
       "      <th>gh_tenure_gini</th>\n",
       "      <th>gender</th>\n",
       "      <th>gh_tenure</th>\n",
       "    </tr>\n",
       "  </thead>\n",
       "  <tbody>\n",
       "    <tr>\n",
       "      <th>0</th>\n",
       "      <td>1101</td>\n",
       "      <td>OTHER</td>\n",
       "      <td>Python</td>\n",
       "      <td>23</td>\n",
       "      <td>22688</td>\n",
       "      <td>0.0</td>\n",
       "      <td>0.422259</td>\n",
       "      <td>male</td>\n",
       "      <td>426</td>\n",
       "    </tr>\n",
       "    <tr>\n",
       "      <th>1</th>\n",
       "      <td>1101</td>\n",
       "      <td>OTHER</td>\n",
       "      <td>Python</td>\n",
       "      <td>23</td>\n",
       "      <td>22688</td>\n",
       "      <td>0.0</td>\n",
       "      <td>0.422259</td>\n",
       "      <td>male</td>\n",
       "      <td>46</td>\n",
       "    </tr>\n",
       "    <tr>\n",
       "      <th>2</th>\n",
       "      <td>1101</td>\n",
       "      <td>OTHER</td>\n",
       "      <td>Python</td>\n",
       "      <td>23</td>\n",
       "      <td>22688</td>\n",
       "      <td>0.0</td>\n",
       "      <td>0.422259</td>\n",
       "      <td>male</td>\n",
       "      <td>941</td>\n",
       "    </tr>\n",
       "    <tr>\n",
       "      <th>3</th>\n",
       "      <td>1101</td>\n",
       "      <td>OTHER</td>\n",
       "      <td>Python</td>\n",
       "      <td>23</td>\n",
       "      <td>22688</td>\n",
       "      <td>0.0</td>\n",
       "      <td>0.422259</td>\n",
       "      <td>male</td>\n",
       "      <td>1870</td>\n",
       "    </tr>\n",
       "    <tr>\n",
       "      <th>4</th>\n",
       "      <td>1101</td>\n",
       "      <td>OTHER</td>\n",
       "      <td>Python</td>\n",
       "      <td>23</td>\n",
       "      <td>22688</td>\n",
       "      <td>0.0</td>\n",
       "      <td>0.422259</td>\n",
       "      <td>male</td>\n",
       "      <td>781</td>\n",
       "    </tr>\n",
       "    <tr>\n",
       "      <th>...</th>\n",
       "      <td>...</td>\n",
       "      <td>...</td>\n",
       "      <td>...</td>\n",
       "      <td>...</td>\n",
       "      <td>...</td>\n",
       "      <td>...</td>\n",
       "      <td>...</td>\n",
       "      <td>...</td>\n",
       "      <td>...</td>\n",
       "    </tr>\n",
       "    <tr>\n",
       "      <th>116</th>\n",
       "      <td>1101</td>\n",
       "      <td>OTHER</td>\n",
       "      <td>Python</td>\n",
       "      <td>23</td>\n",
       "      <td>14210</td>\n",
       "      <td>0.0</td>\n",
       "      <td>0.411372</td>\n",
       "      <td>male</td>\n",
       "      <td>495</td>\n",
       "    </tr>\n",
       "    <tr>\n",
       "      <th>117</th>\n",
       "      <td>1101</td>\n",
       "      <td>OTHER</td>\n",
       "      <td>Python</td>\n",
       "      <td>23</td>\n",
       "      <td>14210</td>\n",
       "      <td>0.0</td>\n",
       "      <td>0.411372</td>\n",
       "      <td>male</td>\n",
       "      <td>487</td>\n",
       "    </tr>\n",
       "    <tr>\n",
       "      <th>118</th>\n",
       "      <td>1101</td>\n",
       "      <td>OTHER</td>\n",
       "      <td>Python</td>\n",
       "      <td>23</td>\n",
       "      <td>14210</td>\n",
       "      <td>0.0</td>\n",
       "      <td>0.411372</td>\n",
       "      <td>male</td>\n",
       "      <td>317</td>\n",
       "    </tr>\n",
       "    <tr>\n",
       "      <th>119</th>\n",
       "      <td>1101</td>\n",
       "      <td>OTHER</td>\n",
       "      <td>Python</td>\n",
       "      <td>23</td>\n",
       "      <td>14210</td>\n",
       "      <td>0.0</td>\n",
       "      <td>0.411372</td>\n",
       "      <td>male</td>\n",
       "      <td>418</td>\n",
       "    </tr>\n",
       "    <tr>\n",
       "      <th>120</th>\n",
       "      <td>1101</td>\n",
       "      <td>OTHER</td>\n",
       "      <td>Python</td>\n",
       "      <td>23</td>\n",
       "      <td>14210</td>\n",
       "      <td>0.0</td>\n",
       "      <td>0.411372</td>\n",
       "      <td>male</td>\n",
       "      <td>179</td>\n",
       "    </tr>\n",
       "  </tbody>\n",
       "</table>\n",
       "<p>114 rows × 9 columns</p>\n",
       "</div>"
      ],
      "text/plain": [
       "     project_id project_domain project_language  project_age  project_commits  \\\n",
       "0          1101          OTHER           Python           23            22688   \n",
       "1          1101          OTHER           Python           23            22688   \n",
       "2          1101          OTHER           Python           23            22688   \n",
       "3          1101          OTHER           Python           23            22688   \n",
       "4          1101          OTHER           Python           23            22688   \n",
       "..          ...            ...              ...          ...              ...   \n",
       "116        1101          OTHER           Python           23            14210   \n",
       "117        1101          OTHER           Python           23            14210   \n",
       "118        1101          OTHER           Python           23            14210   \n",
       "119        1101          OTHER           Python           23            14210   \n",
       "120        1101          OTHER           Python           23            14210   \n",
       "\n",
       "     gender_blau  gh_tenure_gini gender  gh_tenure  \n",
       "0            0.0        0.422259   male        426  \n",
       "1            0.0        0.422259   male         46  \n",
       "2            0.0        0.422259   male        941  \n",
       "3            0.0        0.422259   male       1870  \n",
       "4            0.0        0.422259   male        781  \n",
       "..           ...             ...    ...        ...  \n",
       "116          0.0        0.411372   male        495  \n",
       "117          0.0        0.411372   male        487  \n",
       "118          0.0        0.411372   male        317  \n",
       "119          0.0        0.411372   male        418  \n",
       "120          0.0        0.411372   male        179  \n",
       "\n",
       "[114 rows x 9 columns]"
      ]
     },
     "execution_count": 11,
     "metadata": {},
     "output_type": "execute_result"
    }
   ],
   "source": [
    "(turnover_new\n",
    " .query(\"project_commits > 9000\")\n",
    ") # select rows in which `project_commits` is greater than 9,000."
   ]
  },
  {
   "cell_type": "code",
   "execution_count": 12,
   "id": "6a55d466-18c4-42fb-bf7a-44872c7abd00",
   "metadata": {},
   "outputs": [],
   "source": [
    "turnover_newer = (gh_turnover\n",
    ".filter(regex = '(^p|g)')\n",
    ".query(\"project_commits > 9000\")\n",
    "               ) # Using pandas piping notation, perform the previous two operations together and save it as a new DataFrame `turnover_newer`. "
   ]
  },
  {
   "cell_type": "code",
   "execution_count": 15,
   "id": "ca0222d1-2433-4f81-acbe-b1b3d7a174e9",
   "metadata": {},
   "outputs": [],
   "source": [
    "query = (gh_turnover\n",
    ".filter(regex = '(e$|s)')\n",
    ".query(\"gh_tenure >= 1991\")\n",
    ") #  Using pandas piping notation, select all columns that end with the letter *e* (i.e., `e$`) \n",
    "# or contain the letter *q* (i.e., `q`). Additionally, select rows in which `gh_tenure` is greater than or equal to 1,991. "
   ]
  },
  {
   "cell_type": "code",
   "execution_count": 16,
   "id": "b50efe8d-cccb-4f25-944a-b008c552f826",
   "metadata": {},
   "outputs": [
    {
     "data": {
      "text/html": [
       "<div>\n",
       "<style scoped>\n",
       "    .dataframe tbody tr th:only-of-type {\n",
       "        vertical-align: middle;\n",
       "    }\n",
       "\n",
       "    .dataframe tbody tr th {\n",
       "        vertical-align: top;\n",
       "    }\n",
       "\n",
       "    .dataframe thead th {\n",
       "        text-align: right;\n",
       "    }\n",
       "</style>\n",
       "<table border=\"1\" class=\"dataframe\">\n",
       "  <thead>\n",
       "    <tr style=\"text-align: right;\">\n",
       "      <th></th>\n",
       "      <th>user_commits</th>\n",
       "    </tr>\n",
       "  </thead>\n",
       "  <tbody>\n",
       "    <tr>\n",
       "      <th>mean</th>\n",
       "      <td>3.5</td>\n",
       "    </tr>\n",
       "    <tr>\n",
       "      <th>median</th>\n",
       "      <td>3.5</td>\n",
       "    </tr>\n",
       "  </tbody>\n",
       "</table>\n",
       "</div>"
      ],
      "text/plain": [
       "        user_commits\n",
       "mean             3.5\n",
       "median           3.5"
      ]
     },
     "execution_count": 16,
     "metadata": {},
     "output_type": "execute_result"
    }
   ],
   "source": [
    "(query\n",
    " .agg({\n",
    "     'user_commits':['mean','median']})\n",
    ") # Calculate the mean and median of `user_commits` for the new query. "
   ]
  },
  {
   "cell_type": "markdown",
   "id": "804995f9-714f-445c-b45f-1a316f5f7db2",
   "metadata": {},
   "source": [
    "This mean is signficantly lower. The previous mean was 339 and the median was 18. Now both mean and median are 3.5. "
   ]
  },
  {
   "cell_type": "markdown",
   "id": "5fae6cfe-f969-40ea-aed8-d7bd0c3679f9",
   "metadata": {},
   "source": [
    "## References"
   ]
  },
  {
   "cell_type": "markdown",
   "id": "aade867b-06e7-4bb9-b70a-2bfbe51482ab",
   "metadata": {},
   "source": [
    "### ChatPGT \n",
    "https://chatgpt.com/share/67feb8e6-fd30-8012-82ef-009a1e19f3ee\n",
    ">>> I used ChatGPT this week to help me figure out how to combine regex commands. "
   ]
  },
  {
   "cell_type": "code",
   "execution_count": null,
   "id": "9a60a182-97f7-4ba8-a82c-a10a74ceb388",
   "metadata": {},
   "outputs": [],
   "source": []
  }
 ],
 "metadata": {
  "kernelspec": {
   "display_name": "Python 3 (ipykernel)",
   "language": "python",
   "name": "python3"
  },
  "language_info": {
   "codemirror_mode": {
    "name": "ipython",
    "version": 3
   },
   "file_extension": ".py",
   "mimetype": "text/x-python",
   "name": "python",
   "nbconvert_exporter": "python",
   "pygments_lexer": "ipython3",
   "version": "3.12.7"
  }
 },
 "nbformat": 4,
 "nbformat_minor": 5
}
