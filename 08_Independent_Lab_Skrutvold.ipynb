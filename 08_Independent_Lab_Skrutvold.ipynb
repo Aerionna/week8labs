{
 "cells": [
  {
   "cell_type": "markdown",
   "id": "aea7993c-4104-4d68-ae96-b544bfea064f",
   "metadata": {},
   "source": [
    "## Week 8 Independent Lab: Data Manipulation\n",
    "\n",
    "Author: Aerionna Skrutvold  \n",
    "Course: BGEN632 Grad. Intro to Python  \n",
    "\n",
    "This notebook contains code for the  practice your new skills in data manipulation with the *piping* expression for `pandas`. The program primarily makes use of pandas DataFrames and the  `gh_turnover_four_projects.csv` file contained within the data folder. "
   ]
  },
  {
   "cell_type": "markdown",
   "id": "7ce185de-f8de-4a11-8b90-6613885d0c2b",
   "metadata": {},
   "source": [
    "## Import Modules "
   ]
  },
  {
   "cell_type": "code",
   "execution_count": 28,
   "id": "742c2de2-7fe8-4650-9d4a-c669d08bab2a",
   "metadata": {},
   "outputs": [],
   "source": [
    "import os\n",
    "import pandas as pd\n",
    "import numpy as np\n",
    "from sklearn.model_selection import KFold"
   ]
  },
  {
   "cell_type": "markdown",
   "id": "aa5e16d8-fe6c-47d0-a338-0c28eca9c3a7",
   "metadata": {},
   "source": [
    "## Set Working Directory"
   ]
  },
  {
   "cell_type": "code",
   "execution_count": 29,
   "id": "15b651f1-3786-48bb-aa07-89e516323ede",
   "metadata": {},
   "outputs": [],
   "source": [
    "os.chdir(\"C:/Users/gcassist/Desktop/MSBA/Spring 25/Python/week8labs/data\")"
   ]
  },
  {
   "cell_type": "markdown",
   "id": "b6eb350d-d3da-4d42-a5e9-8a0673eb770f",
   "metadata": {},
   "source": [
    "## Access Data"
   ]
  },
  {
   "cell_type": "code",
   "execution_count": 30,
   "id": "d3f5cabc-c8d3-457b-9edc-5cc544160100",
   "metadata": {},
   "outputs": [],
   "source": [
    "gh_turnover = pd.read_csv(\"gh_turnover_four_projects.csv\") #open the file "
   ]
  },
  {
   "cell_type": "code",
   "execution_count": 31,
   "id": "9cb76bcd-485b-4f35-8ff7-4a530b15a264",
   "metadata": {},
   "outputs": [
    {
     "name": "stdout",
     "output_type": "stream",
     "text": [
      "<class 'pandas.core.frame.DataFrame'>\n",
      "RangeIndex: 473 entries, 0 to 472\n",
      "Data columns (total 16 columns):\n",
      " #   Column         Non-Null Count  Dtype  \n",
      "---  ------         --------------  -----  \n",
      " 0   project_id     473 non-null    int64  \n",
      " 1   domain         473 non-null    object \n",
      " 2   language       473 non-null    object \n",
      " 3   windows        473 non-null    int64  \n",
      " 4   window_idx     473 non-null    int64  \n",
      " 5   num_team       473 non-null    int64  \n",
      " 6   num_commits    473 non-null    int64  \n",
      " 7   blau_gender    473 non-null    float64\n",
      " 8   Gini_gh_ten    473 non-null    float64\n",
      " 9   user_id        473 non-null    int64  \n",
      " 10  Core1          473 non-null    int64  \n",
      " 11  commits        473 non-null    int64  \n",
      " 12  propCommits    473 non-null    float64\n",
      " 13  gender         449 non-null    object \n",
      " 14  github_tenure  473 non-null    int64  \n",
      " 15  leavesNextQ    473 non-null    int64  \n",
      "dtypes: float64(3), int64(10), object(3)\n",
      "memory usage: 59.3+ KB\n"
     ]
    }
   ],
   "source": [
    "gh_turnover.info()  # quick inspect"
   ]
  },
  {
   "cell_type": "markdown",
   "id": "6a91e376-0171-45e2-a026-db1aa13a461a",
   "metadata": {},
   "source": [
    "## Rename Columns\n",
    "* `domain` change to `project_domain`\n",
    "* `language` change to `project_language`\n",
    "* `windows` change to `project_age`\n",
    "* `window_idx` change to `quarter`\n",
    "* `num_team` change to `team_size`\n",
    "* `num_commits` change to `project_commits`\n",
    "* `blau_gender` change to `gender_blau`\n",
    "* `Gini_gh_ten` change to `gh_tenure_gini`\n",
    "* `Core1` change to `core_dev`\n",
    "* `commits` change to `user_commits`\n",
    "* `propCommits` change to `commit_proportion`\n",
    "* `github_tenure` change to `gh_tenure`\n",
    "* `leavesNextQ` change to `leaves_next_q`\n",
    "* Leave all other column names as is"
   ]
  },
  {
   "cell_type": "code",
   "execution_count": 32,
   "id": "37577291-0774-4df8-bf13-fae99f6c1066",
   "metadata": {},
   "outputs": [],
   "source": [
    "(gh_turnover\n",
    " .rename({'domain':'project_domain',\n",
    "          'language':'project_language',\n",
    "          'windows' : 'project_age',\n",
    "          'window_idx' : 'quarter',\n",
    "          'num_team' : 'team_size',\n",
    "          'num_commits' : 'project_commits',\n",
    "          'blau_gender' : 'gender_blau',\n",
    "          'Gini_gh_ten' : 'gh_tenure_gini',\n",
    "          'Core1' : 'core_dev',\n",
    "          'commits' : 'user_commits',\n",
    "          'propCommits' : 'commit_proportion',\n",
    "          'github_tenure' : 'gh_tenure',\n",
    "          'leavesNextQ' : 'leaves_next_q'},\n",
    "          axis = 1,\n",
    "            inplace = True)\n",
    ")"
   ]
  },
  {
   "cell_type": "code",
   "execution_count": 33,
   "id": "c36750a4-eeef-41ff-a8f4-be2db2b6b7a3",
   "metadata": {},
   "outputs": [
    {
     "data": {
      "text/plain": [
       "Index(['project_id', 'project_domain', 'project_language', 'project_age',\n",
       "       'quarter', 'team_size', 'project_commits', 'gender_blau',\n",
       "       'gh_tenure_gini', 'user_id', 'core_dev', 'user_commits',\n",
       "       'commit_proportion', 'gender', 'gh_tenure', 'leaves_next_q'],\n",
       "      dtype='object')"
      ]
     },
     "execution_count": 33,
     "metadata": {},
     "output_type": "execute_result"
    }
   ],
   "source": [
    "gh_turnover.columns"
   ]
  },
  {
   "cell_type": "code",
   "execution_count": 34,
   "id": "38fc024c-2ee7-4518-8bfd-a55db9bad606",
   "metadata": {},
   "outputs": [
    {
     "data": {
      "text/html": [
       "<div>\n",
       "<style scoped>\n",
       "    .dataframe tbody tr th:only-of-type {\n",
       "        vertical-align: middle;\n",
       "    }\n",
       "\n",
       "    .dataframe tbody tr th {\n",
       "        vertical-align: top;\n",
       "    }\n",
       "\n",
       "    .dataframe thead th {\n",
       "        text-align: right;\n",
       "    }\n",
       "</style>\n",
       "<table border=\"1\" class=\"dataframe\">\n",
       "  <thead>\n",
       "    <tr style=\"text-align: right;\">\n",
       "      <th></th>\n",
       "      <th>user_commits</th>\n",
       "    </tr>\n",
       "  </thead>\n",
       "  <tbody>\n",
       "    <tr>\n",
       "      <th>mean</th>\n",
       "      <td>339.365751</td>\n",
       "    </tr>\n",
       "  </tbody>\n",
       "</table>\n",
       "</div>"
      ],
      "text/plain": [
       "      user_commits\n",
       "mean    339.365751"
      ]
     },
     "execution_count": 34,
     "metadata": {},
     "output_type": "execute_result"
    }
   ],
   "source": [
    "(gh_turnover\n",
    " .agg({\n",
    "     'user_commits':['mean']})\n",
    ") # Calculate the mean of `user_commits`. "
   ]
  },
  {
   "cell_type": "code",
   "execution_count": 35,
   "id": "68e3e00b-1506-4a5a-af97-3bcb970c1b60",
   "metadata": {},
   "outputs": [
    {
     "data": {
      "text/html": [
       "<div>\n",
       "<style scoped>\n",
       "    .dataframe tbody tr th:only-of-type {\n",
       "        vertical-align: middle;\n",
       "    }\n",
       "\n",
       "    .dataframe tbody tr th {\n",
       "        vertical-align: top;\n",
       "    }\n",
       "\n",
       "    .dataframe thead th {\n",
       "        text-align: right;\n",
       "    }\n",
       "</style>\n",
       "<table border=\"1\" class=\"dataframe\">\n",
       "  <thead>\n",
       "    <tr style=\"text-align: right;\">\n",
       "      <th></th>\n",
       "      <th>user_commits</th>\n",
       "    </tr>\n",
       "  </thead>\n",
       "  <tbody>\n",
       "    <tr>\n",
       "      <th>median</th>\n",
       "      <td>18.0</td>\n",
       "    </tr>\n",
       "  </tbody>\n",
       "</table>\n",
       "</div>"
      ],
      "text/plain": [
       "        user_commits\n",
       "median          18.0"
      ]
     },
     "execution_count": 35,
     "metadata": {},
     "output_type": "execute_result"
    }
   ],
   "source": [
    "(gh_turnover\n",
    " .agg({\n",
    "     'user_commits':['median']})\n",
    ") # Calculate the median of `user_commits`."
   ]
  },
  {
   "cell_type": "code",
   "execution_count": 36,
   "id": "1708ce22-dd65-49fd-8e45-ba36d7ae6b80",
   "metadata": {},
   "outputs": [],
   "source": [
    "turnover_new = (gh_turnover\n",
    ".filter(regex = '(^p|g)')\n",
    "               ) # Select all columns that start with a *p* (i.e., `(^p)`) **or** contain an *g* (i.e., `(g)`). Save it as a new DataFrame named `turnover_new`."
   ]
  },
  {
   "cell_type": "code",
   "execution_count": 37,
   "id": "cb364a32-44d1-4567-9e47-9485e2f65ee4",
   "metadata": {},
   "outputs": [
    {
     "data": {
      "text/plain": [
       "Index(['project_id', 'project_domain', 'project_language', 'project_age',\n",
       "       'project_commits', 'gender_blau', 'gh_tenure_gini', 'gender',\n",
       "       'gh_tenure'],\n",
       "      dtype='object')"
      ]
     },
     "execution_count": 37,
     "metadata": {},
     "output_type": "execute_result"
    }
   ],
   "source": [
    "turnover_new.columns # Output the columns in your notebook."
   ]
  },
  {
   "cell_type": "code",
   "execution_count": 38,
   "id": "79f060cc-f8c6-488f-b1ca-f8ba55561278",
   "metadata": {},
   "outputs": [
    {
     "data": {
      "text/html": [
       "<div>\n",
       "<style scoped>\n",
       "    .dataframe tbody tr th:only-of-type {\n",
       "        vertical-align: middle;\n",
       "    }\n",
       "\n",
       "    .dataframe tbody tr th {\n",
       "        vertical-align: top;\n",
       "    }\n",
       "\n",
       "    .dataframe thead th {\n",
       "        text-align: right;\n",
       "    }\n",
       "</style>\n",
       "<table border=\"1\" class=\"dataframe\">\n",
       "  <thead>\n",
       "    <tr style=\"text-align: right;\">\n",
       "      <th></th>\n",
       "      <th>project_id</th>\n",
       "      <th>project_domain</th>\n",
       "      <th>project_language</th>\n",
       "      <th>project_age</th>\n",
       "      <th>project_commits</th>\n",
       "      <th>gender_blau</th>\n",
       "      <th>gh_tenure_gini</th>\n",
       "      <th>gender</th>\n",
       "      <th>gh_tenure</th>\n",
       "    </tr>\n",
       "  </thead>\n",
       "  <tbody>\n",
       "    <tr>\n",
       "      <th>0</th>\n",
       "      <td>1101</td>\n",
       "      <td>OTHER</td>\n",
       "      <td>Python</td>\n",
       "      <td>23</td>\n",
       "      <td>22688</td>\n",
       "      <td>0.0</td>\n",
       "      <td>0.422259</td>\n",
       "      <td>male</td>\n",
       "      <td>426</td>\n",
       "    </tr>\n",
       "    <tr>\n",
       "      <th>1</th>\n",
       "      <td>1101</td>\n",
       "      <td>OTHER</td>\n",
       "      <td>Python</td>\n",
       "      <td>23</td>\n",
       "      <td>22688</td>\n",
       "      <td>0.0</td>\n",
       "      <td>0.422259</td>\n",
       "      <td>male</td>\n",
       "      <td>46</td>\n",
       "    </tr>\n",
       "    <tr>\n",
       "      <th>2</th>\n",
       "      <td>1101</td>\n",
       "      <td>OTHER</td>\n",
       "      <td>Python</td>\n",
       "      <td>23</td>\n",
       "      <td>22688</td>\n",
       "      <td>0.0</td>\n",
       "      <td>0.422259</td>\n",
       "      <td>male</td>\n",
       "      <td>941</td>\n",
       "    </tr>\n",
       "    <tr>\n",
       "      <th>3</th>\n",
       "      <td>1101</td>\n",
       "      <td>OTHER</td>\n",
       "      <td>Python</td>\n",
       "      <td>23</td>\n",
       "      <td>22688</td>\n",
       "      <td>0.0</td>\n",
       "      <td>0.422259</td>\n",
       "      <td>male</td>\n",
       "      <td>1870</td>\n",
       "    </tr>\n",
       "    <tr>\n",
       "      <th>4</th>\n",
       "      <td>1101</td>\n",
       "      <td>OTHER</td>\n",
       "      <td>Python</td>\n",
       "      <td>23</td>\n",
       "      <td>22688</td>\n",
       "      <td>0.0</td>\n",
       "      <td>0.422259</td>\n",
       "      <td>male</td>\n",
       "      <td>781</td>\n",
       "    </tr>\n",
       "    <tr>\n",
       "      <th>...</th>\n",
       "      <td>...</td>\n",
       "      <td>...</td>\n",
       "      <td>...</td>\n",
       "      <td>...</td>\n",
       "      <td>...</td>\n",
       "      <td>...</td>\n",
       "      <td>...</td>\n",
       "      <td>...</td>\n",
       "      <td>...</td>\n",
       "    </tr>\n",
       "    <tr>\n",
       "      <th>116</th>\n",
       "      <td>1101</td>\n",
       "      <td>OTHER</td>\n",
       "      <td>Python</td>\n",
       "      <td>23</td>\n",
       "      <td>14210</td>\n",
       "      <td>0.0</td>\n",
       "      <td>0.411372</td>\n",
       "      <td>male</td>\n",
       "      <td>495</td>\n",
       "    </tr>\n",
       "    <tr>\n",
       "      <th>117</th>\n",
       "      <td>1101</td>\n",
       "      <td>OTHER</td>\n",
       "      <td>Python</td>\n",
       "      <td>23</td>\n",
       "      <td>14210</td>\n",
       "      <td>0.0</td>\n",
       "      <td>0.411372</td>\n",
       "      <td>male</td>\n",
       "      <td>487</td>\n",
       "    </tr>\n",
       "    <tr>\n",
       "      <th>118</th>\n",
       "      <td>1101</td>\n",
       "      <td>OTHER</td>\n",
       "      <td>Python</td>\n",
       "      <td>23</td>\n",
       "      <td>14210</td>\n",
       "      <td>0.0</td>\n",
       "      <td>0.411372</td>\n",
       "      <td>male</td>\n",
       "      <td>317</td>\n",
       "    </tr>\n",
       "    <tr>\n",
       "      <th>119</th>\n",
       "      <td>1101</td>\n",
       "      <td>OTHER</td>\n",
       "      <td>Python</td>\n",
       "      <td>23</td>\n",
       "      <td>14210</td>\n",
       "      <td>0.0</td>\n",
       "      <td>0.411372</td>\n",
       "      <td>male</td>\n",
       "      <td>418</td>\n",
       "    </tr>\n",
       "    <tr>\n",
       "      <th>120</th>\n",
       "      <td>1101</td>\n",
       "      <td>OTHER</td>\n",
       "      <td>Python</td>\n",
       "      <td>23</td>\n",
       "      <td>14210</td>\n",
       "      <td>0.0</td>\n",
       "      <td>0.411372</td>\n",
       "      <td>male</td>\n",
       "      <td>179</td>\n",
       "    </tr>\n",
       "  </tbody>\n",
       "</table>\n",
       "<p>114 rows × 9 columns</p>\n",
       "</div>"
      ],
      "text/plain": [
       "     project_id project_domain project_language  project_age  project_commits  \\\n",
       "0          1101          OTHER           Python           23            22688   \n",
       "1          1101          OTHER           Python           23            22688   \n",
       "2          1101          OTHER           Python           23            22688   \n",
       "3          1101          OTHER           Python           23            22688   \n",
       "4          1101          OTHER           Python           23            22688   \n",
       "..          ...            ...              ...          ...              ...   \n",
       "116        1101          OTHER           Python           23            14210   \n",
       "117        1101          OTHER           Python           23            14210   \n",
       "118        1101          OTHER           Python           23            14210   \n",
       "119        1101          OTHER           Python           23            14210   \n",
       "120        1101          OTHER           Python           23            14210   \n",
       "\n",
       "     gender_blau  gh_tenure_gini gender  gh_tenure  \n",
       "0            0.0        0.422259   male        426  \n",
       "1            0.0        0.422259   male         46  \n",
       "2            0.0        0.422259   male        941  \n",
       "3            0.0        0.422259   male       1870  \n",
       "4            0.0        0.422259   male        781  \n",
       "..           ...             ...    ...        ...  \n",
       "116          0.0        0.411372   male        495  \n",
       "117          0.0        0.411372   male        487  \n",
       "118          0.0        0.411372   male        317  \n",
       "119          0.0        0.411372   male        418  \n",
       "120          0.0        0.411372   male        179  \n",
       "\n",
       "[114 rows x 9 columns]"
      ]
     },
     "execution_count": 38,
     "metadata": {},
     "output_type": "execute_result"
    }
   ],
   "source": [
    "(turnover_new\n",
    " .query(\"project_commits > 9000\")\n",
    ") # select rows in which `project_commits` is greater than 9,000."
   ]
  },
  {
   "cell_type": "code",
   "execution_count": 39,
   "id": "6a55d466-18c4-42fb-bf7a-44872c7abd00",
   "metadata": {},
   "outputs": [],
   "source": [
    "turnover_newer = (gh_turnover\n",
    ".filter(regex = '(^p|g)')\n",
    ".query(\"project_commits > 9000\")\n",
    "               ) # Using pandas piping notation, perform the previous two operations together and save it as a new DataFrame `turnover_newer`. "
   ]
  },
  {
   "cell_type": "code",
   "execution_count": 44,
   "id": "ca0222d1-2433-4f81-acbe-b1b3d7a174e9",
   "metadata": {},
   "outputs": [],
   "source": [
    "query = (gh_turnover\n",
    ".filter(regex = '(e$|q)')\n",
    ".query(\"gh_tenure >= 1991\")\n",
    ") #  Using pandas piping notation, select all columns that end with the letter *e* (i.e., `e$`) \n",
    "# or contain the letter *q* (i.e., `q`). Additionally, select rows in which `gh_tenure` is greater than or equal to 1,991. "
   ]
  },
  {
   "cell_type": "code",
   "execution_count": 43,
   "id": "b50efe8d-cccb-4f25-944a-b008c552f826",
   "metadata": {},
   "outputs": [
    {
     "ename": "KeyError",
     "evalue": "\"Column(s) ['user_commits'] do not exist\"",
     "output_type": "error",
     "traceback": [
      "\u001b[1;31m---------------------------------------------------------------------------\u001b[0m",
      "\u001b[1;31mKeyError\u001b[0m                                  Traceback (most recent call last)",
      "Cell \u001b[1;32mIn[43], line 2\u001b[0m\n\u001b[0;32m      1\u001b[0m (query\n\u001b[1;32m----> 2\u001b[0m  \u001b[38;5;241m.\u001b[39magg({\n\u001b[0;32m      3\u001b[0m      \u001b[38;5;124m'\u001b[39m\u001b[38;5;124muser_commits\u001b[39m\u001b[38;5;124m'\u001b[39m:[\u001b[38;5;124m'\u001b[39m\u001b[38;5;124mmean\u001b[39m\u001b[38;5;124m'\u001b[39m,\u001b[38;5;124m'\u001b[39m\u001b[38;5;124mmedian\u001b[39m\u001b[38;5;124m'\u001b[39m]})\n\u001b[0;32m      4\u001b[0m )\n",
      "File \u001b[1;32m~\\AppData\\Local\\anaconda3\\Lib\\site-packages\\pandas\\core\\frame.py:10149\u001b[0m, in \u001b[0;36mDataFrame.aggregate\u001b[1;34m(self, func, axis, *args, **kwargs)\u001b[0m\n\u001b[0;32m  10146\u001b[0m axis \u001b[38;5;241m=\u001b[39m \u001b[38;5;28mself\u001b[39m\u001b[38;5;241m.\u001b[39m_get_axis_number(axis)\n\u001b[0;32m  10148\u001b[0m op \u001b[38;5;241m=\u001b[39m frame_apply(\u001b[38;5;28mself\u001b[39m, func\u001b[38;5;241m=\u001b[39mfunc, axis\u001b[38;5;241m=\u001b[39maxis, args\u001b[38;5;241m=\u001b[39margs, kwargs\u001b[38;5;241m=\u001b[39mkwargs)\n\u001b[1;32m> 10149\u001b[0m result \u001b[38;5;241m=\u001b[39m op\u001b[38;5;241m.\u001b[39magg()\n\u001b[0;32m  10150\u001b[0m result \u001b[38;5;241m=\u001b[39m reconstruct_and_relabel_result(result, func, \u001b[38;5;241m*\u001b[39m\u001b[38;5;241m*\u001b[39mkwargs)\n\u001b[0;32m  10151\u001b[0m \u001b[38;5;28;01mreturn\u001b[39;00m result\n",
      "File \u001b[1;32m~\\AppData\\Local\\anaconda3\\Lib\\site-packages\\pandas\\core\\apply.py:928\u001b[0m, in \u001b[0;36mFrameApply.agg\u001b[1;34m(self)\u001b[0m\n\u001b[0;32m    926\u001b[0m result \u001b[38;5;241m=\u001b[39m \u001b[38;5;28;01mNone\u001b[39;00m\n\u001b[0;32m    927\u001b[0m \u001b[38;5;28;01mtry\u001b[39;00m:\n\u001b[1;32m--> 928\u001b[0m     result \u001b[38;5;241m=\u001b[39m \u001b[38;5;28msuper\u001b[39m()\u001b[38;5;241m.\u001b[39magg()\n\u001b[0;32m    929\u001b[0m \u001b[38;5;28;01mfinally\u001b[39;00m:\n\u001b[0;32m    930\u001b[0m     \u001b[38;5;28mself\u001b[39m\u001b[38;5;241m.\u001b[39mobj \u001b[38;5;241m=\u001b[39m obj\n",
      "File \u001b[1;32m~\\AppData\\Local\\anaconda3\\Lib\\site-packages\\pandas\\core\\apply.py:190\u001b[0m, in \u001b[0;36mApply.agg\u001b[1;34m(self)\u001b[0m\n\u001b[0;32m    187\u001b[0m     \u001b[38;5;28;01mreturn\u001b[39;00m \u001b[38;5;28mself\u001b[39m\u001b[38;5;241m.\u001b[39mapply_str()\n\u001b[0;32m    189\u001b[0m \u001b[38;5;28;01mif\u001b[39;00m is_dict_like(func):\n\u001b[1;32m--> 190\u001b[0m     \u001b[38;5;28;01mreturn\u001b[39;00m \u001b[38;5;28mself\u001b[39m\u001b[38;5;241m.\u001b[39magg_dict_like()\n\u001b[0;32m    191\u001b[0m \u001b[38;5;28;01melif\u001b[39;00m is_list_like(func):\n\u001b[0;32m    192\u001b[0m     \u001b[38;5;66;03m# we require a list, but not a 'str'\u001b[39;00m\n\u001b[0;32m    193\u001b[0m     \u001b[38;5;28;01mreturn\u001b[39;00m \u001b[38;5;28mself\u001b[39m\u001b[38;5;241m.\u001b[39magg_list_like()\n",
      "File \u001b[1;32m~\\AppData\\Local\\anaconda3\\Lib\\site-packages\\pandas\\core\\apply.py:423\u001b[0m, in \u001b[0;36mApply.agg_dict_like\u001b[1;34m(self)\u001b[0m\n\u001b[0;32m    415\u001b[0m \u001b[38;5;28;01mdef\u001b[39;00m \u001b[38;5;21magg_dict_like\u001b[39m(\u001b[38;5;28mself\u001b[39m) \u001b[38;5;241m-\u001b[39m\u001b[38;5;241m>\u001b[39m DataFrame \u001b[38;5;241m|\u001b[39m Series:\n\u001b[0;32m    416\u001b[0m \u001b[38;5;250m    \u001b[39m\u001b[38;5;124;03m\"\"\"\u001b[39;00m\n\u001b[0;32m    417\u001b[0m \u001b[38;5;124;03m    Compute aggregation in the case of a dict-like argument.\u001b[39;00m\n\u001b[0;32m    418\u001b[0m \n\u001b[1;32m   (...)\u001b[0m\n\u001b[0;32m    421\u001b[0m \u001b[38;5;124;03m    Result of aggregation.\u001b[39;00m\n\u001b[0;32m    422\u001b[0m \u001b[38;5;124;03m    \"\"\"\u001b[39;00m\n\u001b[1;32m--> 423\u001b[0m     \u001b[38;5;28;01mreturn\u001b[39;00m \u001b[38;5;28mself\u001b[39m\u001b[38;5;241m.\u001b[39magg_or_apply_dict_like(op_name\u001b[38;5;241m=\u001b[39m\u001b[38;5;124m\"\u001b[39m\u001b[38;5;124magg\u001b[39m\u001b[38;5;124m\"\u001b[39m)\n",
      "File \u001b[1;32m~\\AppData\\Local\\anaconda3\\Lib\\site-packages\\pandas\\core\\apply.py:763\u001b[0m, in \u001b[0;36mNDFrameApply.agg_or_apply_dict_like\u001b[1;34m(self, op_name)\u001b[0m\n\u001b[0;32m    760\u001b[0m     \u001b[38;5;28;01mraise\u001b[39;00m \u001b[38;5;167;01mNotImplementedError\u001b[39;00m(\u001b[38;5;124m\"\u001b[39m\u001b[38;5;124maxis other than 0 is not supported\u001b[39m\u001b[38;5;124m\"\u001b[39m)\n\u001b[0;32m    762\u001b[0m selection \u001b[38;5;241m=\u001b[39m \u001b[38;5;28;01mNone\u001b[39;00m\n\u001b[1;32m--> 763\u001b[0m result_index, result_data \u001b[38;5;241m=\u001b[39m \u001b[38;5;28mself\u001b[39m\u001b[38;5;241m.\u001b[39mcompute_dict_like(\n\u001b[0;32m    764\u001b[0m     op_name, obj, selection, kwargs\n\u001b[0;32m    765\u001b[0m )\n\u001b[0;32m    766\u001b[0m result \u001b[38;5;241m=\u001b[39m \u001b[38;5;28mself\u001b[39m\u001b[38;5;241m.\u001b[39mwrap_results_dict_like(obj, result_index, result_data)\n\u001b[0;32m    767\u001b[0m \u001b[38;5;28;01mreturn\u001b[39;00m result\n",
      "File \u001b[1;32m~\\AppData\\Local\\anaconda3\\Lib\\site-packages\\pandas\\core\\apply.py:462\u001b[0m, in \u001b[0;36mApply.compute_dict_like\u001b[1;34m(self, op_name, selected_obj, selection, kwargs)\u001b[0m\n\u001b[0;32m    460\u001b[0m is_groupby \u001b[38;5;241m=\u001b[39m \u001b[38;5;28misinstance\u001b[39m(obj, (DataFrameGroupBy, SeriesGroupBy))\n\u001b[0;32m    461\u001b[0m func \u001b[38;5;241m=\u001b[39m cast(AggFuncTypeDict, \u001b[38;5;28mself\u001b[39m\u001b[38;5;241m.\u001b[39mfunc)\n\u001b[1;32m--> 462\u001b[0m func \u001b[38;5;241m=\u001b[39m \u001b[38;5;28mself\u001b[39m\u001b[38;5;241m.\u001b[39mnormalize_dictlike_arg(op_name, selected_obj, func)\n\u001b[0;32m    464\u001b[0m is_non_unique_col \u001b[38;5;241m=\u001b[39m (\n\u001b[0;32m    465\u001b[0m     selected_obj\u001b[38;5;241m.\u001b[39mndim \u001b[38;5;241m==\u001b[39m \u001b[38;5;241m2\u001b[39m\n\u001b[0;32m    466\u001b[0m     \u001b[38;5;129;01mand\u001b[39;00m selected_obj\u001b[38;5;241m.\u001b[39mcolumns\u001b[38;5;241m.\u001b[39mnunique() \u001b[38;5;241m<\u001b[39m \u001b[38;5;28mlen\u001b[39m(selected_obj\u001b[38;5;241m.\u001b[39mcolumns)\n\u001b[0;32m    467\u001b[0m )\n\u001b[0;32m    469\u001b[0m \u001b[38;5;28;01mif\u001b[39;00m selected_obj\u001b[38;5;241m.\u001b[39mndim \u001b[38;5;241m==\u001b[39m \u001b[38;5;241m1\u001b[39m:\n\u001b[0;32m    470\u001b[0m     \u001b[38;5;66;03m# key only used for output\u001b[39;00m\n",
      "File \u001b[1;32m~\\AppData\\Local\\anaconda3\\Lib\\site-packages\\pandas\\core\\apply.py:663\u001b[0m, in \u001b[0;36mApply.normalize_dictlike_arg\u001b[1;34m(self, how, obj, func)\u001b[0m\n\u001b[0;32m    661\u001b[0m     cols \u001b[38;5;241m=\u001b[39m Index(\u001b[38;5;28mlist\u001b[39m(func\u001b[38;5;241m.\u001b[39mkeys()))\u001b[38;5;241m.\u001b[39mdifference(obj\u001b[38;5;241m.\u001b[39mcolumns, sort\u001b[38;5;241m=\u001b[39m\u001b[38;5;28;01mTrue\u001b[39;00m)\n\u001b[0;32m    662\u001b[0m     \u001b[38;5;28;01mif\u001b[39;00m \u001b[38;5;28mlen\u001b[39m(cols) \u001b[38;5;241m>\u001b[39m \u001b[38;5;241m0\u001b[39m:\n\u001b[1;32m--> 663\u001b[0m         \u001b[38;5;28;01mraise\u001b[39;00m \u001b[38;5;167;01mKeyError\u001b[39;00m(\u001b[38;5;124mf\u001b[39m\u001b[38;5;124m\"\u001b[39m\u001b[38;5;124mColumn(s) \u001b[39m\u001b[38;5;132;01m{\u001b[39;00m\u001b[38;5;28mlist\u001b[39m(cols)\u001b[38;5;132;01m}\u001b[39;00m\u001b[38;5;124m do not exist\u001b[39m\u001b[38;5;124m\"\u001b[39m)\n\u001b[0;32m    665\u001b[0m aggregator_types \u001b[38;5;241m=\u001b[39m (\u001b[38;5;28mlist\u001b[39m, \u001b[38;5;28mtuple\u001b[39m, \u001b[38;5;28mdict\u001b[39m)\n\u001b[0;32m    667\u001b[0m \u001b[38;5;66;03m# if we have a dict of any non-scalars\u001b[39;00m\n\u001b[0;32m    668\u001b[0m \u001b[38;5;66;03m# eg. {'A' : ['mean']}, normalize all to\u001b[39;00m\n\u001b[0;32m    669\u001b[0m \u001b[38;5;66;03m# be list-likes\u001b[39;00m\n\u001b[0;32m    670\u001b[0m \u001b[38;5;66;03m# Cannot use func.values() because arg may be a Series\u001b[39;00m\n",
      "\u001b[1;31mKeyError\u001b[0m: \"Column(s) ['user_commits'] do not exist\""
     ]
    }
   ],
   "source": [
    "(query\n",
    " .agg({\n",
    "     'user_commits':['mean','median']})\n",
    ") # Calculate the mean and median of `user_commits` for the new query. "
   ]
  },
  {
   "cell_type": "code",
   "execution_count": null,
   "id": "d28709bc-4a16-43de-a690-b3a5a4c049c1",
   "metadata": {},
   "outputs": [],
   "source": []
  },
  {
   "cell_type": "code",
   "execution_count": null,
   "id": "6115beff-3c78-402c-9f8c-936082249a23",
   "metadata": {},
   "outputs": [],
   "source": [
    "\n",
    "2. Use the query you just performed. You will calculate the mean and median of `user_commits`. How does it compare to the answers above in which you calculated the mean and median? Please provide your answer in a Markdown cell within your notebook."
   ]
  },
  {
   "cell_type": "markdown",
   "id": "5fae6cfe-f969-40ea-aed8-d7bd0c3679f9",
   "metadata": {},
   "source": [
    "## References"
   ]
  },
  {
   "cell_type": "markdown",
   "id": "aade867b-06e7-4bb9-b70a-2bfbe51482ab",
   "metadata": {},
   "source": [
    "### ChatPGT \n",
    "https://chatgpt.com/share/67feb8e6-fd30-8012-82ef-009a1e19f3ee\n",
    ">>> I used ChatGPT this week to help me figure out how to combine regex commands. "
   ]
  },
  {
   "cell_type": "code",
   "execution_count": null,
   "id": "9a60a182-97f7-4ba8-a82c-a10a74ceb388",
   "metadata": {},
   "outputs": [],
   "source": []
  }
 ],
 "metadata": {
  "kernelspec": {
   "display_name": "Python 3 (ipykernel)",
   "language": "python",
   "name": "python3"
  },
  "language_info": {
   "codemirror_mode": {
    "name": "ipython",
    "version": 3
   },
   "file_extension": ".py",
   "mimetype": "text/x-python",
   "name": "python",
   "nbconvert_exporter": "python",
   "pygments_lexer": "ipython3",
   "version": "3.12.7"
  }
 },
 "nbformat": 4,
 "nbformat_minor": 5
}
